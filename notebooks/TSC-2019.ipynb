{
 "cells": [
  {
   "cell_type": "markdown",
   "metadata": {},
   "source": [
    "# Explanation of the larger context around this notebook"
   ]
  },
  {
   "cell_type": "markdown",
   "metadata": {},
   "source": [
    "See the [slides](https://github.com/Josh-Joseph/tsc-2019/tree/master/doc/TSC%202019) from [TSC 2019](https://www.tsc2019-interlaken.ch/)"
   ]
  },
  {
   "cell_type": "markdown",
   "metadata": {},
   "source": [
    "# Notebook setup"
   ]
  },
  {
   "cell_type": "code",
   "execution_count": 1,
   "metadata": {},
   "outputs": [],
   "source": [
    "# import the used packages/modules and call the needed jupyter notebook line magics \n",
    "\n",
    "import sys\n",
    "sys.path.append('..')\n",
    "import time\n",
    "import numpy as np\n",
    "from IPython.display import clear_output\n",
    "from tsc import world\n",
    "from tsc.simple_agents import DoNothingAgent, RandomAgent\n",
    "from tsc.training import load_pretrained_agent\n",
    "from tsc.visualization_utils import visualize_weights, visualize_activations\n",
    "\n",
    "%matplotlib inline"
   ]
  },
  {
   "cell_type": "markdown",
   "metadata": {},
   "source": [
    "# The environment and the agent's \"physical\" form"
   ]
  },
  {
   "cell_type": "markdown",
   "metadata": {},
   "source": [
    "## Intuition for the environment"
   ]
  },
  {
   "cell_type": "markdown",
   "metadata": {},
   "source": [
    "[OpenAI's LunarLander-v2](https://gym.openai.com/envs/LunarLander-v2/)\n",
    "- The agent is a lunar lander attempting to softly land between the flags\n",
    "- Episode finishes if the lander crashes or comes to rest, receiving additional -100 or +100 points\n",
    "- Each leg ground contact is +10\n",
    "- Firing the engines is a small negative reward\n",
    "- Small positive reward for smoother flight\n",
    "- Fuel is infinite\n",
    "- Four discrete actions available: do nothing, fire left orientation engine, fire main engine, fire right orientation engine"
   ]
  },
  {
   "cell_type": "code",
   "execution_count": null,
   "metadata": {
    "code_folding": []
   },
   "outputs": [],
   "source": [
    "%%HTML\n",
    "<video width=\"480\" height=\"360\" controls>\n",
    "  <source src=\"videos/openai_lunarlander_video.mp4\" type=\"video/mp4\">\n",
    "</video>"
   ]
  },
  {
   "cell_type": "markdown",
   "metadata": {},
   "source": [
    "## Intuition for agents in the environment"
   ]
  },
  {
   "cell_type": "code",
   "execution_count": null,
   "metadata": {},
   "outputs": [],
   "source": [
    "# An agent that does nothing\n",
    "    \n",
    "agent = DoNothingAgent()\n",
    "episode_history = world.run_episode(agent, seed=2)\n",
    "print(\"The agent recieved {} total reward\".format(int(round(sum(episode_history['reward'])))))"
   ]
  },
  {
   "cell_type": "code",
   "execution_count": null,
   "metadata": {},
   "outputs": [],
   "source": [
    "# An agent that takes random actions\n",
    "\n",
    "agent = RandomAgent()\n",
    "episode_history = world.run_episode(agent, seed=2)\n",
    "print(\"The agent recieved {} total reward\".format(int(round(sum(episode_history['reward'])))))"
   ]
  },
  {
   "cell_type": "markdown",
   "metadata": {},
   "source": [
    "# Our agent"
   ]
  },
  {
   "cell_type": "markdown",
   "metadata": {},
   "source": [
    "The structure of the agent:\n",
    "![The structure of the agent](images/agent_structure.png)"
   ]
  },
  {
   "cell_type": "markdown",
   "metadata": {},
   "source": [
    "## Semantically important regions for the agent"
   ]
  },
  {
   "cell_type": "code",
   "execution_count": null,
   "metadata": {},
   "outputs": [],
   "source": [
    "def I_am_high_above_the_ground(observation):\n",
    "    return observation[1] > 0.5\n",
    "\n",
    "def I_am_low_to_the_ground(observation):\n",
    "    return observation[1] <= 0.5\n",
    "\n",
    "def I_am_to_the_left_of_the_center(observation):\n",
    "    return observation[0] > 0.\n",
    "\n",
    "def I_am_to_the_right_of_the_center(observation):\n",
    "    return observation[0] <= 0.\n",
    "\n",
    "def I_am_falling_too_fast(observation):\n",
    "    return observation[3] < -0.2\n",
    "\n",
    "regions = [\n",
    "    I_am_high_above_the_ground, \n",
    "    I_am_low_to_the_ground, \n",
    "    I_am_to_the_left_of_the_center, \n",
    "    I_am_to_the_right_of_the_center,\n",
    "    I_am_falling_too_fast\n",
    "]"
   ]
  },
  {
   "cell_type": "code",
   "execution_count": null,
   "metadata": {},
   "outputs": [],
   "source": [
    "def print_matching_regions(observation):\n",
    "    for region in regions:\n",
    "        print('{}: {}'.format(region.__name__, region(episode_history['observation'][episode_index][:8])))"
   ]
  },
  {
   "cell_type": "code",
   "execution_count": null,
   "metadata": {
    "scrolled": false
   },
   "outputs": [],
   "source": [
    "episode_index = 50\n",
    "\n",
    "world.visualize(episode_history['world_image'][episode_index])\n",
    "\n",
    "print_matching_regions(episode_history['observation'][episode_index])"
   ]
  },
  {
   "cell_type": "markdown",
   "metadata": {},
   "source": [
    "## Conversion of recurrent_activations to internal state"
   ]
  },
  {
   "cell_type": "code",
   "execution_count": null,
   "metadata": {},
   "outputs": [],
   "source": [
    "def recurrent_activations_to_internal_state(recurrent_activations):\n",
    "    \n",
    "    internal_state = set()\n",
    "    \n",
    "    for activation, region in zip(recurrent_activations, regions):\n",
    "        if activation > 0.5:\n",
    "            internal_state.add(region.__name__)\n",
    "            \n",
    "    return internal_state"
   ]
  },
  {
   "cell_type": "markdown",
   "metadata": {},
   "source": [
    "## Training the agent"
   ]
  },
  {
   "cell_type": "code",
   "execution_count": null,
   "metadata": {
    "scrolled": true
   },
   "outputs": [],
   "source": [
    "agent = load_pretrained_agent()\n",
    "\n",
    "print(agent.qnetwork_local)"
   ]
  },
  {
   "cell_type": "markdown",
   "metadata": {},
   "source": [
    "The performance of the agent during training:\n",
    "![The training performance of the agent](images/training_performance.png)"
   ]
  },
  {
   "cell_type": "markdown",
   "metadata": {},
   "source": [
    "## The agent acting in the environment"
   ]
  },
  {
   "cell_type": "code",
   "execution_count": null,
   "metadata": {
    "scrolled": true
   },
   "outputs": [],
   "source": [
    "episode_history = world.run_episode(agent, seed=2)\n",
    "print(\"The agent recieved {} total reward\".format(int(round(sum(episode_history['reward'])))))"
   ]
  },
  {
   "cell_type": "markdown",
   "metadata": {},
   "source": [
    "# Brain state and internal state instances of the agent"
   ]
  },
  {
   "cell_type": "code",
   "execution_count": null,
   "metadata": {},
   "outputs": [],
   "source": [
    "def visualize_brain_state_and_internal_state_instance(episode_index):\n",
    "\n",
    "    brain_state = agent.get_brain_state(episode_history['observation'][episode_index])\n",
    "    \n",
    "    recurrent_activations = brain_state['activations'][3]\n",
    "    internal_state = recurrent_activations_to_internal_state(recurrent_activations)\n",
    "    \n",
    "    visualize_activations(brain_state)\n",
    "    visualize_weights(brain_state)\n",
    "    \n",
    "    world.visualize(episode_history['world_image'][episode_index])\n",
    "    \n",
    "    print(\"Internal state: \\n{}\".format(internal_state))"
   ]
  },
  {
   "cell_type": "code",
   "execution_count": null,
   "metadata": {},
   "outputs": [],
   "source": [
    "import matplotlib.pyplot as plt\n",
    "\n",
    "for episode_i in range(0, len(episode_history['observation']), 25):\n",
    "    clear_output(wait=True)\n",
    "    visualize_brain_state_and_internal_state_instance(episode_i)\n",
    "    plt.show()\n",
    "    time.sleep(3)"
   ]
  }
 ],
 "metadata": {
  "kernelspec": {
   "display_name": "Python 3",
   "language": "python",
   "name": "python3"
  },
  "language_info": {
   "codemirror_mode": {
    "name": "ipython",
    "version": 3
   },
   "file_extension": ".py",
   "mimetype": "text/x-python",
   "name": "python",
   "nbconvert_exporter": "python",
   "pygments_lexer": "ipython3",
   "version": "3.5.2"
  },
  "toc": {
   "base_numbering": 1,
   "nav_menu": {
    "height": "244px",
    "width": "518px"
   },
   "number_sections": true,
   "sideBar": true,
   "skip_h1_title": false,
   "title_cell": "Table of Contents",
   "title_sidebar": "Contents",
   "toc_cell": false,
   "toc_position": {
    "height": "calc(100% - 180px)",
    "left": "10px",
    "top": "150px",
    "width": "631.391px"
   },
   "toc_section_display": true,
   "toc_window_display": true
  },
  "varInspector": {
   "cols": {
    "lenName": 16,
    "lenType": 16,
    "lenVar": 40
   },
   "kernels_config": {
    "python": {
     "delete_cmd_postfix": "",
     "delete_cmd_prefix": "del ",
     "library": "var_list.py",
     "varRefreshCmd": "print(var_dic_list())"
    },
    "r": {
     "delete_cmd_postfix": ") ",
     "delete_cmd_prefix": "rm(",
     "library": "var_list.r",
     "varRefreshCmd": "cat(var_dic_list()) "
    }
   },
   "oldHeight": 482,
   "position": {
    "height": "40px",
    "left": "898px",
    "right": "20px",
    "top": "125px",
    "width": "350px"
   },
   "types_to_exclude": [
    "module",
    "function",
    "builtin_function_or_method",
    "instance",
    "_Feature"
   ],
   "varInspector_section_display": "none",
   "window_display": false
  }
 },
 "nbformat": 4,
 "nbformat_minor": 2
}
