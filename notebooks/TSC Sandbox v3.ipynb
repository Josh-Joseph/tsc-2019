{
 "cells": [
  {
   "cell_type": "markdown",
   "metadata": {},
   "source": [
    "# Notebook setup"
   ]
  },
  {
   "cell_type": "code",
   "execution_count": 1,
   "metadata": {},
   "outputs": [],
   "source": [
    "%reload_ext autoreload\n",
    "%autoreload 2\n",
    "\n",
    "import sys\n",
    "sys.path.append('..')\n",
    "import warnings\n",
    "warnings.filterwarnings('ignore')\n",
    "\n",
    "import random\n",
    "import numpy as np\n",
    "import matplotlib.pyplot as plt\n",
    "import seaborn as sns\n",
    "import torch\n",
    "import json\n",
    "from IPython.display import clear_output\n",
    "\n",
    "import world\n",
    "\n",
    "%matplotlib inline\n",
    "\n",
    "\n",
    "def pretty_print(obj):\n",
    "    print(json.dumps(third_person_brain_state_ontology, indent=2, sort_keys=True))"
   ]
  },
  {
   "cell_type": "markdown",
   "metadata": {},
   "source": [
    "# 3rd-person (objective) perspective"
   ]
  },
  {
   "cell_type": "markdown",
   "metadata": {},
   "source": [
    "## The world and an agent acting in the world"
   ]
  },
  {
   "cell_type": "markdown",
   "metadata": {},
   "source": [
    "### Intuition for the world"
   ]
  },
  {
   "cell_type": "markdown",
   "metadata": {},
   "source": [
    "[OpenAI's LunarLander-v2](https://gym.openai.com/envs/LunarLander-v2/)\n",
    "- The agent is a lunar lander attempting to softly land between the flags\n",
    "- Episode finishes if the lander crashes or comes to rest, receiving additional -100 or +100 points\n",
    "- Each leg ground contact is +10\n",
    "- Firing the engines is a small negative reward\n",
    "- Small positive reward for smoother flight\n",
    "- Fuel is infinite\n",
    "- Four discrete actions available: do nothing, fire left orientation engine, fire main engine, fire right orientation engine"
   ]
  },
  {
   "cell_type": "code",
   "execution_count": 2,
   "metadata": {
    "code_folding": [
     0
    ]
   },
   "outputs": [
    {
     "data": {
      "text/html": [
       "<video width=\"480\" height=\"360\" controls>\n",
       "  <source src=\"../openai_lunarlander_video.mp4\" type=\"video/mp4\">\n",
       "</video>\n"
      ],
      "text/plain": [
       "<IPython.core.display.HTML object>"
      ]
     },
     "metadata": {},
     "output_type": "display_data"
    }
   ],
   "source": [
    "%%HTML\n",
    "<video width=\"480\" height=\"360\" controls>\n",
    "  <source src=\"../openai_lunarlander_video.mp4\" type=\"video/mp4\">\n",
    "</video>"
   ]
  },
  {
   "cell_type": "markdown",
   "metadata": {},
   "source": [
    "### Intuition for how agents are described"
   ]
  },
  {
   "cell_type": "code",
   "execution_count": 3,
   "metadata": {},
   "outputs": [
    {
     "name": "stdout",
     "output_type": "stream",
     "text": [
      "The agent recieved -136 total reward\n"
     ]
    }
   ],
   "source": [
    "# An agent that does nothing\n",
    "\n",
    "class DoNothingAgent(object):\n",
    "\n",
    "    def act(self, observation):\n",
    "        return 0\n",
    "    \n",
    "agent = DoNothingAgent()\n",
    "episode_history = world.run_episode(agent)\n",
    "print(\"The agent recieved {} total reward\".format(int(round(sum(episode_history['reward'])))))"
   ]
  },
  {
   "cell_type": "code",
   "execution_count": 4,
   "metadata": {},
   "outputs": [
    {
     "name": "stdout",
     "output_type": "stream",
     "text": [
      "The agent recieved -86 total reward\n"
     ]
    }
   ],
   "source": [
    "# An agent that takes random actions\n",
    "\n",
    "class RandomAgent(object):\n",
    "\n",
    "    def act(self, observation):\n",
    "        return random.randint(0, 3)\n",
    "\n",
    "agent = RandomAgent()\n",
    "episode_history = world.run_episode(agent)\n",
    "print(\"The agent recieved {} total reward\".format(int(round(sum(episode_history['reward'])))))"
   ]
  },
  {
   "cell_type": "markdown",
   "metadata": {},
   "source": [
    "## An agent who performs well in the world"
   ]
  },
  {
   "cell_type": "code",
   "execution_count": 5,
   "metadata": {
    "scrolled": false
   },
   "outputs": [],
   "source": [
    "from training import train_agent, load_pretrained_agent\n",
    "\n",
    "# Uncomment below if you wish to retrain the agent, otherwise it will use a pretrained, saved model\n",
    "# train_agent()\n",
    "\n",
    "agent = load_pretrained_agent()"
   ]
  },
  {
   "cell_type": "code",
   "execution_count": 6,
   "metadata": {},
   "outputs": [
    {
     "name": "stdout",
     "output_type": "stream",
     "text": [
      "The agent recieved 236 total reward\n"
     ]
    }
   ],
   "source": [
    "episode_history = world.run_episode(agent)\n",
    "print(\"The agent recieved {} total reward\".format(int(round(sum(episode_history['reward'])))))"
   ]
  },
  {
   "cell_type": "markdown",
   "metadata": {},
   "source": [
    "## A 3rd-person ontology over brain states"
   ]
  },
  {
   "cell_type": "markdown",
   "metadata": {},
   "source": [
    "Brain state in humans and animals: the full physical-chemical state of the brain and nervous system"
   ]
  },
  {
   "cell_type": "markdown",
   "metadata": {},
   "source": [
    "So we'll define every brain state the agent is in as a token in the following ontology.\n",
    "\n",
    "3rd person ontology:\n",
    "- Layer weights\n",
    "- Activations\n",
    "- Connectivity\n",
    "- The agent's observation\n",
    "- The agent's action\n",
    "- The environment\n",
    "- Brain state TODO CONTAINS ABOVE\n",
    "- Mental state reports"
   ]
  },
  {
   "cell_type": "markdown",
   "metadata": {},
   "source": [
    "## Some brain state tokens of the agent"
   ]
  },
  {
   "cell_type": "code",
   "execution_count": 7,
   "metadata": {},
   "outputs": [],
   "source": [
    "from world_utils import visualize_world\n",
    "from brain_utils import get_brain_state, visualize_weights, visualize_activations\n",
    "\n",
    "\n",
    "def visualize_third_person_brain_state_token(episode_index):\n",
    "\n",
    "    brain_state = get_brain_state(agent, episode_history['observation'][episode_index])\n",
    "\n",
    "    visualize_world(episode_history['world_image'][episode_index])\n",
    "    visualize_weights(brain_state)\n",
    "    visualize_activations(brain_state)"
   ]
  },
  {
   "cell_type": "code",
   "execution_count": 8,
   "metadata": {},
   "outputs": [
    {
     "data": {
      "image/png": "[encoded data removed]",
      "text/plain": [
       "<Figure size 504x288 with 1 Axes>"
      ]
     },
     "metadata": {
      "needs_background": "light"
     },
     "output_type": "display_data"
    },
    {
     "data": {
      "image/png": "[encoded data removed]",
      "text/plain": [
       "<Figure size 504x144 with 4 Axes>"
      ]
     },
     "metadata": {},
     "output_type": "display_data"
    },
    {
     "data": {
      "image/png": "[encoded data removed]",
      "text/plain": [
       "<Figure size 504x144 with 5 Axes>"
      ]
     },
     "metadata": {},
     "output_type": "display_data"
    }
   ],
   "source": [
    "visualize_third_person_brain_state_token(50)"
   ]
  },
  {
   "cell_type": "code",
   "execution_count": 9,
   "metadata": {},
   "outputs": [
    {
     "data": {
      "image/png": "[encoded data removed]",
      "text/plain": [
       "<Figure size 504x288 with 1 Axes>"
      ]
     },
     "metadata": {
      "needs_background": "light"
     },
     "output_type": "display_data"
    },
    {
     "data": {
      "image/png": "[encoded data removed]",
      "text/plain": [
       "<Figure size 504x144 with 4 Axes>"
      ]
     },
     "metadata": {},
     "output_type": "display_data"
    },
    {
     "data": {
      "image/png": "[encoded data removed]",
      "text/plain": [
       "<Figure size 504x144 with 5 Axes>"
      ]
     },
     "metadata": {},
     "output_type": "display_data"
    }
   ],
   "source": [
    "visualize_third_person_brain_state_token(150)"
   ]
  },
  {
   "cell_type": "markdown",
   "metadata": {},
   "source": [
    "# 1st-person (subjective) perspective"
   ]
  },
  {
   "cell_type": "markdown",
   "metadata": {},
   "source": [
    "## Semantically important regions for the agent (viewed from the 3rd-person perspective)"
   ]
  },
  {
   "cell_type": "code",
   "execution_count": 10,
   "metadata": {},
   "outputs": [],
   "source": [
    "def high(observation):\n",
    "    return observation[1] > 0.5\n",
    "\n",
    "def low(observation):\n",
    "    return observation[1] <= 0.5\n",
    "\n",
    "def left(observation):\n",
    "    return observation[0] > 0.\n",
    "\n",
    "def right(observation):\n",
    "    return observation[0] <= 0.\n",
    "\n",
    "def falling_too_fast(observation):\n",
    "    return observation[3] < -0.2\n",
    "\n",
    "important_regions = [high, low, left, right, falling_too_fast]"
   ]
  },
  {
   "cell_type": "code",
   "execution_count": 11,
   "metadata": {},
   "outputs": [],
   "source": [
    "def print_matching_regions(observation):\n",
    "    for region in important_regions:\n",
    "        print('{}: {}'.format(region.__name__, region(episode_history['observation'][episode_index][:8])))"
   ]
  },
  {
   "cell_type": "code",
   "execution_count": 12,
   "metadata": {},
   "outputs": [
    {
     "name": "stdout",
     "output_type": "stream",
     "text": [
      "high: True\n",
      "low: False\n",
      "left: False\n",
      "right: True\n",
      "falling_too_fast: True\n"
     ]
    },
    {
     "data": {
      "image/png": "[encoded data removed]",
      "text/plain": [
       "<Figure size 504x288 with 1 Axes>"
      ]
     },
     "metadata": {
      "needs_background": "light"
     },
     "output_type": "display_data"
    }
   ],
   "source": [
    "episode_index = 50\n",
    "\n",
    "visualize_world(episode_history['world_image'][episode_index])\n",
    "\n",
    "print_matching_regions(episode_history['observation'][episode_index])"
   ]
  },
  {
   "cell_type": "code",
   "execution_count": 13,
   "metadata": {},
   "outputs": [
    {
     "name": "stdout",
     "output_type": "stream",
     "text": [
      "high: False\n",
      "low: True\n",
      "left: True\n",
      "right: False\n",
      "falling_too_fast: False\n"
     ]
    },
    {
     "data": {
      "image/png": "[encoded data removed]",
      "text/plain": [
       "<Figure size 504x288 with 1 Axes>"
      ]
     },
     "metadata": {
      "needs_background": "light"
     },
     "output_type": "display_data"
    }
   ],
   "source": [
    "episode_index = 225\n",
    "\n",
    "visualize_world(episode_history['world_image'][episode_index])\n",
    "\n",
    "print_matching_regions(episode_history['observation'][episode_index])"
   ]
  },
  {
   "cell_type": "markdown",
   "metadata": {},
   "source": [
    "## A 1st-person ontology over mental states"
   ]
  },
  {
   "cell_type": "markdown",
   "metadata": {},
   "source": [
    "Mental state in humans and animals: beliefs, desires, thoughts, perceptions, emotions, knowledge, etc."
   ]
  },
  {
   "cell_type": "markdown",
   "metadata": {},
   "source": [
    "So we'll define every mental state of the agent to be a token in the following ontology.\n",
    "\n",
    "1st person ontology:\n",
    "- Region\n",
    "- Mental state (set of regions I believe I'm in)"
   ]
  },
  {
   "cell_type": "code",
   "execution_count": 14,
   "metadata": {},
   "outputs": [],
   "source": [
    "class RegionsIBelieveIAmIn(object):\n",
    "    \n",
    "    def __init__(self):\n",
    "        self.regions = set()\n",
    "        \n",
    "    def __repr__(self):\n",
    "        return str(sorted(self.regions))\n",
    "    \n",
    "    def add_region(self, region):\n",
    "        self.regions.add(region)\n",
    "\n",
    "first_person_mental_state_ontology = {\n",
    "    \"regions I believe I'm in\": RegionsIBelieveIAmIn\n",
    "}"
   ]
  },
  {
   "cell_type": "markdown",
   "metadata": {},
   "source": [
    "## Conversion of brain states to mental states"
   ]
  },
  {
   "cell_type": "code",
   "execution_count": 15,
   "metadata": {},
   "outputs": [],
   "source": [
    "# Note that this function *somehow* crosses ontologies\n",
    "\n",
    "def third_person_brain_state_to_first_person_mental_state(brain_state):\n",
    "    mental_state = {k: v() for k, v in first_person_mental_state_ontology.items()}\n",
    "    for i, region in enumerate(important_regions):\n",
    "        if brain_state['activations'][3][i] > 0.5:\n",
    "            mental_state[\"regions I believe I'm in\"].add_region(region.__name__)\n",
    "    return mental_state"
   ]
  },
  {
   "cell_type": "markdown",
   "metadata": {},
   "source": [
    "## Some mental state tokens of the agent"
   ]
  },
  {
   "cell_type": "code",
   "execution_count": 16,
   "metadata": {},
   "outputs": [],
   "source": [
    "def report_mental_state(mental_state):\n",
    "    print(\"\"\"3rd-person report of the 1st-person view: \n",
    "    'I have the beliefs: {}'\"\"\".format(', '.join(mental_state[\"regions I believe I'm in\"].regions)))\n",
    "    \n",
    "def visualize_first_person_mental_state_token(episode_index):\n",
    "    \n",
    "    brain_state = get_brain_state(agent, episode_history['observation'][episode_index])\n",
    "\n",
    "    mental_state = third_person_brain_state_to_first_person_mental_state(brain_state)\n",
    "\n",
    "    report_mental_state(mental_state)\n",
    "    \n",
    "    visualize_world(episode_history['world_image'][episode_index])"
   ]
  },
  {
   "cell_type": "code",
   "execution_count": 17,
   "metadata": {},
   "outputs": [
    {
     "name": "stdout",
     "output_type": "stream",
     "text": [
      "3rd-person report of the 1st-person view: \n",
      "    'I have the beliefs: high, right, falling_too_fast'\n"
     ]
    },
    {
     "data": {
      "image/png": "[encoded data removed]",
      "text/plain": [
       "<Figure size 504x288 with 1 Axes>"
      ]
     },
     "metadata": {
      "needs_background": "light"
     },
     "output_type": "display_data"
    }
   ],
   "source": [
    "visualize_first_person_mental_state_token(50)"
   ]
  },
  {
   "cell_type": "code",
   "execution_count": 18,
   "metadata": {},
   "outputs": [
    {
     "name": "stdout",
     "output_type": "stream",
     "text": [
      "3rd-person report of the 1st-person view: \n",
      "    'I have the beliefs: right, low'\n"
     ]
    },
    {
     "data": {
      "image/png": "[encoded data removed]",
      "text/plain": [
       "<Figure size 504x288 with 1 Axes>"
      ]
     },
     "metadata": {
      "needs_background": "light"
     },
     "output_type": "display_data"
    }
   ],
   "source": [
    "visualize_first_person_mental_state_token(155)"
   ]
  },
  {
   "cell_type": "code",
   "execution_count": 31,
   "metadata": {},
   "outputs": [
    {
     "name": "stdout",
     "output_type": "stream",
     "text": [
      "3rd-person report of the 1st-person view: \n",
      "    'I have the beliefs: low, left'\n"
     ]
    },
    {
     "data": {
      "image/png": "[encoded data removed]",
      "text/plain": [
       "<Figure size 504x288 with 1 Axes>"
      ]
     },
     "metadata": {
      "needs_background": "light"
     },
     "output_type": "display_data"
    }
   ],
   "source": [
    "visualize_first_person_mental_state_token(325)"
   ]
  },
  {
   "cell_type": "markdown",
   "metadata": {},
   "source": [
    "# Searle's view"
   ]
  },
  {
   "cell_type": "markdown",
   "metadata": {},
   "source": [
    "- Mental state types are causally reducible to brain state types\n",
    "- Mental state types are ontologically irreducible to brain state types\n",
    "\n",
    "TODO is it types or token reducibility or not matter?"
   ]
  },
  {
   "cell_type": "markdown",
   "metadata": {},
   "source": [
    "## Causal reducibility"
   ]
  },
  {
   "cell_type": "markdown",
   "metadata": {},
   "source": [
    "Phenomena of type A are causally reducible to phenomena of type B if and only if\n",
    "1. the behavior of A’s are entirely casually explained by the behavior of B’s\n",
    "1. A’s have no causal powers in addition to the powers of B’s"
   ]
  },
  {
   "cell_type": "markdown",
   "metadata": {},
   "source": [
    "### The agent's mental state behavior is causally explained by its brain states behavior"
   ]
  },
  {
   "cell_type": "markdown",
   "metadata": {},
   "source": [
    "The function `third_person_brain_state_to_first_person_mental_state` is explicitly satisfying this."
   ]
  },
  {
   "cell_type": "markdown",
   "metadata": {},
   "source": [
    "### The agent's mental states have no causal powers in addition to the powers of its brain states"
   ]
  },
  {
   "cell_type": "markdown",
   "metadata": {},
   "source": [
    "By looking at the neural network structure we can see all of the causal power is captured by the activations."
   ]
  },
  {
   "cell_type": "markdown",
   "metadata": {},
   "source": [
    "## Ontological irreducibility"
   ]
  },
  {
   "cell_type": "markdown",
   "metadata": {},
   "source": [
    "Phenomena of type A are ontologically reducible to phenomena of type B if and only if A’s are nothing but B’s"
   ]
  },
  {
   "cell_type": "markdown",
   "metadata": {},
   "source": [
    "### The agent's mental states are not nothing but its brain states"
   ]
  },
  {
   "cell_type": "markdown",
   "metadata": {},
   "source": [
    "TODO FIX ME"
   ]
  },
  {
   "cell_type": "code",
   "execution_count": 24,
   "metadata": {},
   "outputs": [
    {
     "name": "stdout",
     "output_type": "stream",
     "text": [
      "activations: <class 'list'>\n",
      "observation: <built-in function array>\n",
      "action: <class 'numpy.int64'>\n",
      "layer_weights: <class 'list'>\n"
     ]
    }
   ],
   "source": [
    "print_ontology(third_person_brain_state_ontology)"
   ]
  },
  {
   "cell_type": "markdown",
   "metadata": {},
   "source": [
    "# Open questions"
   ]
  },
  {
   "cell_type": "markdown",
   "metadata": {},
   "source": [
    "One of the contentious pieces of this was the `third_person_brain_state_to_first_person_mental_state` function. A function that went from brain state types to mental state types. One way we can see even more clearly what is happening here is to note that this notebook is essentially the same argument as:"
   ]
  },
  {
   "cell_type": "code",
   "execution_count": 25,
   "metadata": {},
   "outputs": [
    {
     "name": "stdout",
     "output_type": "stream",
     "text": [
      "Brain state: \n",
      "[[2]\n",
      " [1]]\n",
      "\n",
      "Brain state to mental state \"function\": \n",
      "[[1 0]\n",
      " [0 1]\n",
      " [1 1]]\n",
      "\n",
      "Mental state: \n",
      "[[2]\n",
      " [1]\n",
      " [3]]\n",
      "\n"
     ]
    }
   ],
   "source": [
    "brain_state = np.array([[2], [1]])\n",
    "brain_state_to_mental_state_matrix = np.matrix([[1, 0], [0, 1], [1, 1]])\n",
    "mental_state = brain_state_to_mental_state_matrix * brain_state\n",
    "\n",
    "print('Brain state: \\n{}\\n'.format(brain_state))\n",
    "print('Brain state to mental state \"function\": \\n{}\\n'.format(brain_state_to_mental_state_matrix))\n",
    "print('Mental state: \\n{}\\n'.format(mental_state))"
   ]
  },
  {
   "cell_type": "markdown",
   "metadata": {},
   "source": [
    "And then noting that:\n",
    "- The \"mental state\" was created by a simple matrix multiplication with the \"brain state\" (hence, causally reducible)\n",
    "- The \"brain state\" is of type length-2-vector and the \"mental state\" of type length-3-vector where there is one ontology over length-2-vectors and another ontology over length-3-vectors"
   ]
  },
  {
   "cell_type": "markdown",
   "metadata": {},
   "source": [
    "So we'd be very curious to get thoughts on what this type conversion _means_ in the context of Searle's view (or even more broadly). Or is this confusion because we viewed (and implemented) `third_person_brain_state_to_first_person_mental_state` as a function and should have gone about that specifying that relationship another way?"
   ]
  },
  {
   "cell_type": "code",
   "execution_count": null,
   "metadata": {},
   "outputs": [],
   "source": []
  }
 ],
 "metadata": {
  "kernelspec": {
   "display_name": "Python 3",
   "language": "python",
   "name": "python3"
  },
  "language_info": {
   "codemirror_mode": {
    "name": "ipython",
    "version": 3
   },
   "file_extension": ".py",
   "mimetype": "text/x-python",
   "name": "python",
   "nbconvert_exporter": "python",
   "pygments_lexer": "ipython3",
   "version": "3.5.2"
  },
  "toc": {
   "base_numbering": 1,
   "nav_menu": {
    "height": "244px",
    "width": "518px"
   },
   "number_sections": true,
   "sideBar": true,
   "skip_h1_title": false,
   "title_cell": "Table of Contents",
   "title_sidebar": "Contents",
   "toc_cell": false,
   "toc_position": {
    "height": "calc(100% - 180px)",
    "left": "10px",
    "top": "150px",
    "width": "329.391px"
   },
   "toc_section_display": true,
   "toc_window_display": true
  },
  "varInspector": {
   "cols": {
    "lenName": 16,
    "lenType": 16,
    "lenVar": 40
   },
   "kernels_config": {
    "python": {
     "delete_cmd_postfix": "",
     "delete_cmd_prefix": "del ",
     "library": "var_list.py",
     "varRefreshCmd": "print(var_dic_list())"
    },
    "r": {
     "delete_cmd_postfix": ") ",
     "delete_cmd_prefix": "rm(",
     "library": "var_list.r",
     "varRefreshCmd": "cat(var_dic_list()) "
    }
   },
   "oldHeight": 482,
   "position": {
    "height": "40px",
    "left": "898px",
    "right": "20px",
    "top": "125px",
    "width": "350px"
   },
   "types_to_exclude": [
    "module",
    "function",
    "builtin_function_or_method",
    "instance",
    "_Feature"
   ],
   "varInspector_section_display": "none",
   "window_display": false
  }
 },
 "nbformat": 4,
 "nbformat_minor": 2
}
